{
 "cells": [
  {
   "cell_type": "code",
   "execution_count": 1,
   "id": "ef2680c5-6d02-4c57-b1e3-cc46d9f23ef7",
   "metadata": {},
   "outputs": [
    {
     "name": "stdout",
     "output_type": "stream",
     "text": [
      "Defaulting to user installation because normal site-packages is not writeable\n",
      "Requirement already satisfied: selenium in c:\\users\\user\\appdata\\roaming\\python\\python311\\site-packages (4.23.1)\n",
      "Requirement already satisfied: urllib3<3,>=1.26 in c:\\programdata\\anaconda3\\lib\\site-packages (from urllib3[socks]<3,>=1.26->selenium) (2.0.7)\n",
      "Requirement already satisfied: trio~=0.17 in c:\\users\\user\\appdata\\roaming\\python\\python311\\site-packages (from selenium) (0.26.2)\n",
      "Requirement already satisfied: trio-websocket~=0.9 in c:\\users\\user\\appdata\\roaming\\python\\python311\\site-packages (from selenium) (0.11.1)\n",
      "Requirement already satisfied: certifi>=2021.10.8 in c:\\programdata\\anaconda3\\lib\\site-packages (from selenium) (2024.6.2)\n",
      "Requirement already satisfied: typing_extensions~=4.9 in c:\\programdata\\anaconda3\\lib\\site-packages (from selenium) (4.9.0)\n",
      "Requirement already satisfied: websocket-client~=1.8 in c:\\users\\user\\appdata\\roaming\\python\\python311\\site-packages (from selenium) (1.8.0)\n",
      "Requirement already satisfied: attrs>=23.2.0 in c:\\users\\user\\appdata\\roaming\\python\\python311\\site-packages (from trio~=0.17->selenium) (24.2.0)\n",
      "Requirement already satisfied: sortedcontainers in c:\\programdata\\anaconda3\\lib\\site-packages (from trio~=0.17->selenium) (2.4.0)\n",
      "Requirement already satisfied: idna in c:\\programdata\\anaconda3\\lib\\site-packages (from trio~=0.17->selenium) (3.4)\n",
      "Requirement already satisfied: outcome in c:\\users\\user\\appdata\\roaming\\python\\python311\\site-packages (from trio~=0.17->selenium) (1.3.0.post0)\n",
      "Requirement already satisfied: sniffio>=1.3.0 in c:\\programdata\\anaconda3\\lib\\site-packages (from trio~=0.17->selenium) (1.3.0)\n",
      "Requirement already satisfied: cffi>=1.14 in c:\\programdata\\anaconda3\\lib\\site-packages (from trio~=0.17->selenium) (1.16.0)\n",
      "Requirement already satisfied: wsproto>=0.14 in c:\\users\\user\\appdata\\roaming\\python\\python311\\site-packages (from trio-websocket~=0.9->selenium) (1.2.0)\n",
      "Requirement already satisfied: pysocks!=1.5.7,<2.0,>=1.5.6 in c:\\programdata\\anaconda3\\lib\\site-packages (from urllib3[socks]<3,>=1.26->selenium) (1.7.1)\n",
      "Requirement already satisfied: pycparser in c:\\programdata\\anaconda3\\lib\\site-packages (from cffi>=1.14->trio~=0.17->selenium) (2.21)\n",
      "Requirement already satisfied: h11<1,>=0.9.0 in c:\\users\\user\\appdata\\roaming\\python\\python311\\site-packages (from wsproto>=0.14->trio-websocket~=0.9->selenium) (0.14.0)\n",
      "Note: you may need to restart the kernel to use updated packages.\n"
     ]
    },
    {
     "name": "stderr",
     "output_type": "stream",
     "text": [
      "DEPRECATION: Loading egg at c:\\programdata\\anaconda3\\lib\\site-packages\\vboxapi-1.0-py3.11.egg is deprecated. pip 24.3 will enforce this behaviour change. A possible replacement is to use pip for package installation.. Discussion can be found at https://github.com/pypa/pip/issues/12330\n"
     ]
    }
   ],
   "source": [
    "pip install selenium"
   ]
  },
  {
   "cell_type": "code",
   "execution_count": 2,
   "id": "4a6dd636-0980-4b3c-9458-63be68c46f80",
   "metadata": {},
   "outputs": [
    {
     "name": "stdout",
     "output_type": "stream",
     "text": [
      "Defaulting to user installation because normal site-packages is not writeable\n",
      "Requirement already satisfied: webdriver_manager in c:\\users\\user\\appdata\\roaming\\python\\python311\\site-packages (4.0.2)\n",
      "Requirement already satisfied: requests in c:\\programdata\\anaconda3\\lib\\site-packages (from webdriver_manager) (2.31.0)\n",
      "Requirement already satisfied: python-dotenv in c:\\programdata\\anaconda3\\lib\\site-packages (from webdriver_manager) (0.21.0)\n",
      "Requirement already satisfied: packaging in c:\\programdata\\anaconda3\\lib\\site-packages (from webdriver_manager) (23.1)\n",
      "Requirement already satisfied: charset-normalizer<4,>=2 in c:\\programdata\\anaconda3\\lib\\site-packages (from requests->webdriver_manager) (2.0.4)\n",
      "Requirement already satisfied: idna<4,>=2.5 in c:\\programdata\\anaconda3\\lib\\site-packages (from requests->webdriver_manager) (3.4)\n",
      "Requirement already satisfied: urllib3<3,>=1.21.1 in c:\\programdata\\anaconda3\\lib\\site-packages (from requests->webdriver_manager) (2.0.7)\n",
      "Requirement already satisfied: certifi>=2017.4.17 in c:\\programdata\\anaconda3\\lib\\site-packages (from requests->webdriver_manager) (2024.6.2)\n",
      "Note: you may need to restart the kernel to use updated packages.\n"
     ]
    },
    {
     "name": "stderr",
     "output_type": "stream",
     "text": [
      "DEPRECATION: Loading egg at c:\\programdata\\anaconda3\\lib\\site-packages\\vboxapi-1.0-py3.11.egg is deprecated. pip 24.3 will enforce this behaviour change. A possible replacement is to use pip for package installation.. Discussion can be found at https://github.com/pypa/pip/issues/12330\n"
     ]
    }
   ],
   "source": [
    "pip install webdriver_manager"
   ]
  },
  {
   "cell_type": "code",
   "execution_count": 3,
   "id": "3bb5b19f-e7d3-43e2-8123-ea74a3fc630f",
   "metadata": {},
   "outputs": [
    {
     "name": "stdout",
     "output_type": "stream",
     "text": [
      "Defaulting to user installation because normal site-packages is not writeable\n",
      "Note: you may need to restart the kernel to use updated packages.\n"
     ]
    },
    {
     "name": "stderr",
     "output_type": "stream",
     "text": [
      "DEPRECATION: Loading egg at c:\\programdata\\anaconda3\\lib\\site-packages\\vboxapi-1.0-py3.11.egg is deprecated. pip 24.3 will enforce this behaviour change. A possible replacement is to use pip for package installation.. Discussion can be found at https://github.com/pypa/pip/issues/12330\n",
      "ERROR: Could not find a version that satisfies the requirement WebDriverWait (from versions: none)\n",
      "ERROR: No matching distribution found for WebDriverWait\n"
     ]
    }
   ],
   "source": [
    "pip install WebDriverWait"
   ]
  },
  {
   "cell_type": "code",
   "execution_count": 4,
   "id": "c7a3c7c0-65a7-4607-a1d7-b09aa13638d7",
   "metadata": {},
   "outputs": [],
   "source": [
    "from selenium import webdriver"
   ]
  },
  {
   "cell_type": "code",
   "execution_count": 5,
   "id": "709fdd10-2ca7-4812-b5a9-2173d5121a48",
   "metadata": {},
   "outputs": [],
   "source": [
    "# selenium으로 무엇인가 입력하기 위한 import\n",
    "from selenium.webdriver.common.keys import Keys\n",
    "from selenium.webdriver.common.by import By\n",
    "from selenium.webdriver.support.ui import Select\n",
    "from selenium import webdriver\n",
    "from selenium.webdriver.chrome.service import Service\n",
    "from webdriver_manager.chrome import ChromeDriverManager\n",
    "from selenium.webdriver.common.action_chains import ActionChains\n",
    "from selenium import webdriver\n",
    "from selenium.webdriver.common.by import By\n",
    "from selenium.webdriver.support.ui import WebDriverWait\n",
    "from selenium.webdriver.support import expected_conditions as EC\n",
    "from selenium.common.exceptions import StaleElementReferenceException, NoSuchElementException\n",
    "# 페이지 로딩을 기다리는데에 사용할 time 모듈 import\n",
    "import time"
   ]
  },
  {
   "cell_type": "code",
   "execution_count": 6,
   "id": "bbf5e80d-2155-4dfe-8431-dc2119f2138b",
   "metadata": {},
   "outputs": [],
   "source": [
    "# 크롬드라이버 실행\n",
    "driver = webdriver.Chrome() "
   ]
  },
  {
   "cell_type": "code",
   "execution_count": 7,
   "id": "f928ec57-a891-45d4-b4df-7ae0be8670cf",
   "metadata": {},
   "outputs": [],
   "source": [
    "driver.quit()"
   ]
  },
  {
   "cell_type": "code",
   "execution_count": 8,
   "id": "7fe822d7-e0cf-4ad2-8934-1b809bb77f12",
   "metadata": {},
   "outputs": [],
   "source": [
    "#chrome driver 설치 코드\n",
    "def get_chrome_driver():\n",
    "    #1. 크롬 옵션 세팅\n",
    "    chrome_options = webdriver.ChromeOptions()\n",
    "    #2.driver 생성\n",
    "    driver = webdriver.Chrome(\n",
    "    service=Service(ChromeDriverManager().install()),\n",
    "    options=chrome_options\n",
    ")\n",
    "\n",
    "    return driver"
   ]
  },
  {
   "cell_type": "markdown",
   "id": "b1e31bf1-0010-4f61-927b-59859a3ba30d",
   "metadata": {},
   "source": [
    "- webdriver : 파이썬과 브라우저를 연결하기 위한 객체\n",
    "- Service : [최신버전] 어떤 브라우저를 사용하게 할건지 선택\n",
    "- ChromeDriverManager : [최신버전] Chrome을 사용하기 위한 드라이버 설정"
   ]
  },
  {
   "cell_type": "code",
   "execution_count": 9,
   "id": "628103e7-858e-4720-8e2c-e757111e9ef8",
   "metadata": {},
   "outputs": [],
   "source": [
    "driver = get_chrome_driver()"
   ]
  },
  {
   "cell_type": "markdown",
   "id": "7bbc7ceb-5413-4d6f-9341-dded042873c3",
   "metadata": {},
   "source": [
    "## 1. 타자 연봉 크롤링"
   ]
  },
  {
   "cell_type": "code",
   "execution_count": 12,
   "id": "179d0a6c-fcc5-4dcc-87dc-a1e5cb764f49",
   "metadata": {},
   "outputs": [],
   "source": [
    "driver = get_chrome_driver()\n",
    "\n",
    "driver.get(\"https://www.koreabaseball.com/Record/Player/HitterBasic/Basic1.aspx\")\n",
    "driver.implicitly_wait(1)\n",
    "# \"HT\",\"SS\",\"LG\",\"OB\",\n",
    "hitter_name_list = []\n",
    "hitter_salary_list = []\n",
    "team = [\"HT\",\"SS\",\"LG\",\"OB\",\"SK\",\"KT\",\"HH\",\"LT\",\"NC\",\"WO\"]\n",
    "\n",
    "\n",
    "for t in team: \n",
    "    \n",
    "    for i in range(1,26):\n",
    "        # 드롭다운\n",
    "        dropdown = \"ctl00$ctl00$ctl00$cphContents$cphContents$cphContents$ddlTeam$ddlTeam\"\n",
    "        select_element = driver.find_element(By.NAME, dropdown)\n",
    "        select = Select(select_element)\n",
    "        select.select_by_value(t)  \n",
    "\n",
    "        time.sleep(2) # 페이지의 완벽한 로딩을 위한 작업\n",
    "    \n",
    "        # 이름 버튼 눌러서 상세 페이지 열기\n",
    "        name_css_selector = f'#cphContents_cphContents_cphContents_udpContent > div.record_result > table > tbody > tr:nth-child({i}) > td:nth-child(2) > a'\n",
    "        button = driver.find_element(By.CSS_SELECTOR,name_css_selector)\n",
    "        ActionChains(driver).click(button).perform()\n",
    "\n",
    "            \n",
    "        name = driver.find_elements(By.ID, \"cphContents_cphContents_cphContents_playerProfile_lblName\")\n",
    "        salary = driver.find_elements(By.ID, \"cphContents_cphContents_cphContents_playerProfile_lblSalary\")\n",
    "            \n",
    "        hitter_name_list.append(name[0].get_attribute('innerHTML'))\n",
    "        hitter_salary_list.append(salary[0].get_attribute('innerHTML'))\n",
    "            \n",
    "            \n",
    "        driver.back()\n"
   ]
  },
  {
   "cell_type": "code",
   "execution_count": null,
   "id": "9f824d43-a1da-4eba-a44d-0b2e08c7544e",
   "metadata": {},
   "outputs": [],
   "source": [
    "hitter_name_list\n"
   ]
  },
  {
   "cell_type": "code",
   "execution_count": null,
   "id": "d924749e-8351-463d-8347-4cbdde33f10c",
   "metadata": {},
   "outputs": [],
   "source": [
    "hitter_salary_list\n"
   ]
  },
  {
   "cell_type": "code",
   "execution_count": null,
   "id": "a8979997-77a9-4cff-95af-8a42d5e5b618",
   "metadata": {},
   "outputs": [],
   "source": [
    "import pandas as pd\n",
    "\n",
    "# 데이터 프레임으로 만들기\n",
    "df_hitter = pd.DataFrame({\"선수명\":hitter_name_list, \"salary\":hitter_salary_list})"
   ]
  },
  {
   "cell_type": "code",
   "execution_count": null,
   "id": "fa90d3b6-6fca-4ba6-934f-1dded041d544",
   "metadata": {},
   "outputs": [],
   "source": [
    "df_hitter.shape"
   ]
  },
  {
   "cell_type": "code",
   "execution_count": null,
   "id": "ad0c6e13-a571-4453-8434-5a787a234e31",
   "metadata": {},
   "outputs": [],
   "source": [
    "# 데이터 저장\n",
    "df_hitter.to_csv('./hitter_salary.csv',index=False)"
   ]
  },
  {
   "cell_type": "markdown",
   "id": "6a2f8a92-cdb1-4690-9355-e36364fed159",
   "metadata": {},
   "source": [
    "## 2. 투수 연봉 크롤링"
   ]
  },
  {
   "cell_type": "code",
   "execution_count": null,
   "id": "bf7c2330-7d8c-4b98-8004-551070d725c9",
   "metadata": {},
   "outputs": [],
   "source": [
    "driver = get_chrome_driver()\n",
    "\n",
    "driver.set_window_size(2000, 1000)\n",
    "driver.set_window_position(1,0) \n",
    "driver.get(\"https://www.koreabaseball.com/Record/Player/PitcherBasic/BasicOld.aspx\")\n",
    "driver.implicitly_wait(1)\n",
    "# \"HT\",\"SS\",\"LG\",\"OB\",\n",
    "name_list = []\n",
    "salary_list = []\n",
    "team = [\"HT\",\"SS\",\"LG\",\"OB\",\"SK\",\"KT\",\"HH\",\"LT\",\"NC\",\"WO\"]\n",
    "\n",
    "time.sleep(3) \n",
    "\n",
    "for t in team: \n",
    "    \n",
    "    for i in range(1,26):\n",
    "            \n",
    "        # 드롭다운\n",
    "        dropdown = \"ctl00$ctl00$ctl00$cphContents$cphContents$cphContents$ddlTeam$ddlTeam\"\n",
    "        select_element = driver.find_element(By.NAME, dropdown)\n",
    "        select = Select(select_element)\n",
    "        select.select_by_value(t)\n",
    "    \n",
    "        time.sleep(2) \n",
    "\n",
    "        # 이름 버튼 눌러서 상세 페이지 열기\n",
    "        name_css_selector = f'#cphContents_cphContents_cphContents_udpContent > div.record_result > table > tbody > tr:nth-child({i}) > td:nth-child(2) > a'\n",
    "        button = driver.find_element(By.CSS_SELECTOR,name_css_selector)\n",
    "\n",
    "        ActionChains(driver).click(button).perform()\n",
    "    \n",
    "        name_x = '//*[@id=\"cphContents_cphContents_cphContents_playerProfile_lblName\"]'\n",
    "        salary_x = '//*[@id=\"cphContents_cphContents_cphContents_playerProfile_lblSalary\"]'\n",
    "            \n",
    "        name = driver.find_elements(By.XPATH,name_x)\n",
    "        salary = driver.find_elements(By.XPATH, salary_x)\n",
    "\n",
    "        pitcher_name_list.append(name[0].get_attribute('innerHTML'))\n",
    "        pitcher_salary_list.append(salary[0].get_attribute('innerHTML'))\n",
    "            \n",
    "        driver.back()\n"
   ]
  },
  {
   "cell_type": "code",
   "execution_count": null,
   "id": "5912ff4b-c795-4956-9ce4-10134bc56138",
   "metadata": {},
   "outputs": [],
   "source": [
    "pitcher_salary_list"
   ]
  },
  {
   "cell_type": "code",
   "execution_count": null,
   "id": "7956abee-9983-49c6-9a45-46420b418429",
   "metadata": {},
   "outputs": [],
   "source": [
    "pitcher_name_list"
   ]
  },
  {
   "cell_type": "code",
   "execution_count": null,
   "id": "d3564668-a4ba-408a-b3cf-f49cb399c108",
   "metadata": {},
   "outputs": [],
   "source": [
    "df_salary = pd.DataFrame({\"선수명\":pitcher_name_list, \"salary\":pitcher_salary_list})"
   ]
  },
  {
   "cell_type": "code",
   "execution_count": null,
   "id": "4d93f9ff-e10e-49f4-8bc0-a3bfa6e721fa",
   "metadata": {},
   "outputs": [],
   "source": [
    "# 데이터 저장\n",
    "df_salary.to_csv('./pitcher_salary.csv',index=False)"
   ]
  }
 ],
 "metadata": {
  "kernelspec": {
   "display_name": "Python 3 (ipykernel)",
   "language": "python",
   "name": "python3"
  },
  "language_info": {
   "codemirror_mode": {
    "name": "ipython",
    "version": 3
   },
   "file_extension": ".py",
   "mimetype": "text/x-python",
   "name": "python",
   "nbconvert_exporter": "python",
   "pygments_lexer": "ipython3",
   "version": "3.11.7"
  }
 },
 "nbformat": 4,
 "nbformat_minor": 5
}
